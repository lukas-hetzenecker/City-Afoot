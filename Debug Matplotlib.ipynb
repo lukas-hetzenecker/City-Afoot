{
 "metadata": {
  "language_info": {
   "codemirror_mode": {
    "name": "ipython",
    "version": 3
   },
   "file_extension": ".py",
   "mimetype": "text/x-python",
   "name": "python",
   "nbconvert_exporter": "python",
   "pygments_lexer": "ipython3",
   "version": "3.8.5-final"
  },
  "orig_nbformat": 2,
  "kernelspec": {
   "name": "python3",
   "display_name": "Python 3",
   "language": "python"
  }
 },
 "nbformat": 4,
 "nbformat_minor": 2,
 "cells": [
  {
   "cell_type": "code",
   "execution_count": 6,
   "metadata": {},
   "outputs": [
    {
     "output_type": "execute_result",
     "data": {
      "text/plain": [
       "'0.16.2'"
      ]
     },
     "metadata": {},
     "execution_count": 6
    }
   ],
   "source": [
    "import common_options as co\n",
    "import matplotlib.cm as cm\n",
    "import matplotlib.colors as colors\n",
    "import networkx as nx\n",
    "import osmnx as ox\n",
    "import pandas as pd\n",
    "from functools import partial\n",
    "%matplotlib widget \n",
    "\n",
    "ox.config(log_console=True, use_cache=True)\n",
    "ox.__version__"
   ]
  },
  {
   "cell_type": "code",
   "execution_count": 7,
   "metadata": {},
   "outputs": [],
   "source": [
    "def on_move(G, ax, event):\n",
    "    ax.set_title(\"\")\n",
    "    if not event.inaxes:\n",
    "        return    \n",
    "    x, y = event.xdata, event.ydata\n",
    "    edge = ox.distance.get_nearest_edge(G, (y, x))\n",
    "\n",
    "    title = ''\n",
    "    edge = G.edges.get(edge)\n",
    "    if 'name' in edge:\n",
    "        title += edge['name'] + ' - '\n",
    "    if 'length' in edge:\n",
    "        title += str(edge['length']) + 'm'\n",
    "\n",
    "    ax.set_title(title)"
   ]
  },
  {
   "cell_type": "code",
   "execution_count": 8,
   "metadata": {},
   "outputs": [
    {
     "output_type": "display_data",
     "data": {
      "text/plain": "Canvas(toolbar=Toolbar(toolitems=[('Home', 'Reset original view', 'home', 'home'), ('Back', 'Back to previous …",
      "application/vnd.jupyter.widget-view+json": {
       "version_major": 2,
       "version_minor": 0,
       "model_id": "8eb960fcd3504288936b569dd0b6f56e"
      }
     },
     "metadata": {}
    },
    {
     "output_type": "execute_result",
     "data": {
      "text/plain": [
       "9"
      ]
     },
     "metadata": {},
     "execution_count": 8
    }
   ],
   "source": [
    "G = ox.graph_from_bbox(*co.bb_westbahnhofareal, clean_periphery=True, custom_filter=co.walking_filter_wbh, **co.graph_download_options)\n",
    "fig, ax = ox.plot_graph(G, node_color='r')\n",
    "\n",
    "fig.canvas.mpl_connect('button_press_event', partial(on_move, G, ax))"
   ]
  },
  {
   "cell_type": "code",
   "execution_count": 9,
   "metadata": {},
   "outputs": [
    {
     "output_type": "display_data",
     "data": {
      "text/plain": "Canvas(toolbar=Toolbar(toolitems=[('Home', 'Reset original view', 'home', 'home'), ('Back', 'Back to previous …",
      "application/vnd.jupyter.widget-view+json": {
       "version_major": 2,
       "version_minor": 0,
       "model_id": "1e645b6d08a147e59af06be6f95ca25d"
      }
     },
     "metadata": {}
    },
    {
     "output_type": "execute_result",
     "data": {
      "text/plain": [
       "9"
      ]
     },
     "metadata": {},
     "execution_count": 9
    }
   ],
   "source": [
    "from helpers import redistribute_graph\n",
    "\n",
    "G_proj = ox.project_graph(G)\n",
    "G_redis = redistribute_graph(G_proj)\n",
    "\n",
    "fig, ax = ox.plot_graph(G_redis, node_color='r')\n",
    "\n",
    "fig.canvas.mpl_connect('button_press_event', partial(on_move, G_redis, ax))"
   ]
  }
 ]
}